{
  "nbformat": 4,
  "nbformat_minor": 0,
  "metadata": {
    "colab": {
      "provenance": [],
      "authorship_tag": "ABX9TyNqRw4+aoK6p9EnyUEWcgpp",
      "include_colab_link": true
    },
    "kernelspec": {
      "name": "python3",
      "display_name": "Python 3"
    },
    "language_info": {
      "name": "python"
    }
  },
  "cells": [
    {
      "cell_type": "markdown",
      "metadata": {
        "id": "view-in-github",
        "colab_type": "text"
      },
      "source": [
        "<a href=\"https://colab.research.google.com/github/TruongCaoThanhNhat/Colab/blob/main/Untitled0.ipynb\" target=\"_parent\"><img src=\"https://colab.research.google.com/assets/colab-badge.svg\" alt=\"Open In Colab\"/></a>"
      ]
    },
    {
      "cell_type": "code",
      "execution_count": null,
      "metadata": {
        "colab": {
          "base_uri": "https://localhost:8080/"
        },
        "id": "-OQUoR13ichL",
        "outputId": "7e303c7d-5955-426c-e2b5-c03b43387af3"
      },
      "outputs": [
        {
          "name": "stdout",
          "output_type": "stream",
          "text": [
            "Nhập số nguyên thứ 1 : 3\n",
            "Nhập số nguyên thứ 2 : -2\n",
            "Nhập số nguyên thứ 3 : 3\n",
            "[3, -2, 3]\n",
            "Phần tử lớn nhất là: 3\n",
            "Phần tử nhỏ nhất là: -2\n",
            "Tổng các phần tử :  4\n",
            "L ban đầu [3, -2, 3]\n",
            "Danh sách L sau khi sắp xếp: [-2, 3, 3]\n",
            "Số lượng số dương:  2\n",
            "Số lượng số âm:  1\n",
            "Enter n = 2\n"
          ]
        }
      ],
      "source": [
        "# Task 1.1\n",
        "n = int(input(\"Enter n = \"))\n",
        "# print(\"n \", n)\n",
        "\n",
        "L=[]\n",
        "for i in range(n):\n",
        "  x = int(input(f\"Nhập số nguyên thứ {i+1} : \"))\n",
        "  L.append(x)\n",
        "  # print(type(x))\n",
        "print(L)\n",
        "\n",
        "value_max = max(L)\n",
        "value_min = min(L)\n",
        "print(\"Phần tử lớn nhất là:\",value_max)\n",
        "print(\"Phần tử nhỏ nhất là:\",value_min)\n",
        "\n",
        "numSum = sum(L)\n",
        "print(\"Tổng các phần tử : \",numSum)\n",
        "\n",
        "print(\"L ban đầu\",L)\n",
        "L.sort()\n",
        "print(\"Danh sách L sau khi sắp xếp:\", L)\n",
        "\n",
        "positive = 0\n",
        "negative = 0\n",
        "for i in L :\n",
        "  if i > 0:\n",
        "    positive+=1\n",
        "  else:\n",
        "    negative+=1\n",
        "print(\"Số lượng số dương: \",positive)\n",
        "print(\"Số lượng số âm: \", negative)"
      ]
    },
    {
      "cell_type": "code",
      "source": [
        "# Task 1.2\n",
        "def computeS(n):\n",
        "  if n <= 0:\n",
        "        return 0\n",
        "  sum = 0\n",
        "  value = 1\n",
        "  for i in range(1,n+1):\n",
        "    value = value * i\n",
        "    sum += value\n",
        "  return sum\n",
        "\n",
        "print(\"Kết quả là\",computeS(2))\n",
        "print(\"Kết quả là\",computeS(3))\n",
        "print(\"Kết quả là\",computeS(4))"
      ],
      "metadata": {
        "colab": {
          "base_uri": "https://localhost:8080/"
        },
        "id": "c1Bo1POQjTCa",
        "outputId": "ddd3ad51-3ef0-4d7f-9273-ff3e90e8f4b9"
      },
      "execution_count": null,
      "outputs": [
        {
          "output_type": "stream",
          "name": "stdout",
          "text": [
            "Kết quả là 3\n",
            "Kết quả là 9\n",
            "Kết quả là 33\n"
          ]
        }
      ]
    },
    {
      "cell_type": "code",
      "source": [
        "# Task 1.3\n",
        "from typing import Dict,List\n",
        "from typing import Set\n",
        "class Account:\n",
        "    def __init__(self, name: str, country: str, email: str):\n",
        "        self._name = name\n",
        "        self._email = email\n",
        "        self._country = country\n",
        "        self._friends: List[Account] = []\n",
        "        self._posts: List[Post] = []\n",
        "    def __str__(self):\n",
        "        return f\"Account(name={self._name}, email={self._email}, country={self._country})\"\n",
        "\n",
        "    # tim tai khoan co post nhieu like tu danh sach ban be\n",
        "    def get_max_like_post_by_friend(self):\n",
        "      post_max_like = None\n",
        "      max_likes = 0\n",
        "      acc_max_like = \"\"\n",
        "\n",
        "      for friend in self._friends:\n",
        "          for post in friend._posts:\n",
        "              if post._likes > max_likes:\n",
        "                  max_likes = post._likes\n",
        "                  post_max_like = post\n",
        "                  acc_max_like=friend\n",
        "      # print(acc_max_like)\n",
        "      return acc_max_like\n",
        "\n",
        "class Post:\n",
        "  def __init__(self, content: str, subject: str, likes: int):\n",
        "        self._content = content\n",
        "        self._subject = subject\n",
        "        self._likes = likes\n",
        "  def __str__(self):\n",
        "        return f\"Post(content={self.content}, _subject={self.__subject}, _likes={self.__likes})\"\n",
        "\n",
        "\n",
        "\n",
        "class AccountManager:\n",
        "  def __init__(self ):\n",
        "        self._accounts = []\n",
        "  def add_account(self, account):\n",
        "        self._accounts.append(account)\n",
        "  def group_accounts_by_post_like(self) -> Dict[bool, List[\"Account\"]]:\n",
        "        grouped_accounts = {True: [], False: []}\n",
        "\n",
        "        for account in self._accounts:\n",
        "            if len(account._posts) >= 10:\n",
        "                grouped_accounts[True].append(account)\n",
        "            else:\n",
        "                grouped_accounts[False].append(account)\n",
        "\n",
        "        return grouped_accounts\n",
        "\n",
        "# Tạo các tài khoản và bài viết giả định\n",
        "account1 = Account(\"nguyena\", \"VN\", \"nguyena@gmail.com\")\n",
        "account2 = Account(\"nguyenb\", \"VN\", \"nguyenb@gmail.com\")\n",
        "account3 = Account(\"nguyenc\", \"VN\", \"nguyenc@gmail.com\")\n",
        "\n",
        "post1 = Post(\"Post 1\", \"Subject 1\", 10)\n",
        "post2 = Post(\"Post 2\", \"Subject 2\", 15)\n",
        "post3 = Post(\"Post 3\", \"Subject 3\", 20)\n",
        "post4 = Post(\"Post 4\", \"Subject 4\", 25)\n",
        "post5 = Post(\"Post 5\", \"Subject 5\", 30)\n",
        "\n",
        "# Gán bài viết cho tài khoản\n",
        "account1._posts = [post1, post5,post3,post4,post2,post1,post2,post3,post4,post5]\n",
        "account2._posts = [post2,post4]\n",
        "account3._posts = [post3, post1]\n",
        "\n",
        "# Gán bạn bè cho tài khoản\n",
        "account1._friends = [account2, account3]\n",
        "account2._friends = [account1, account3]\n",
        "account3._friends = [account1, account2]\n",
        "\n",
        "# Tạo một AccountManager và thêm các tài khoản\n",
        "account_manager = AccountManager()\n",
        "account_manager.add_account(account1)\n",
        "account_manager.add_account(account2)\n",
        "account_manager.add_account(account3)\n",
        "\n",
        "# 1. get_max_like_post_by_friend()\n",
        "acc = account1.get_max_like_post_by_friend()\n",
        "print(\"Tài khoản có post nhiều like nhất trong dach sách bạn bè\",acc)\n",
        "\n",
        "# 2. Kiểm tra phương thức group_accounts_by_post_like()\n",
        "grouped_accounts = account_manager.group_accounts_by_post_like()\n",
        "\n",
        "# In ra kết quả\n",
        "print(\"Tài khoản có từ 10 post trở lên:\")\n",
        "for account in grouped_accounts[True]:\n",
        "    print(f\"- {account._name}\")\n",
        "\n",
        "print(\"\\nTài khoản có từ 10 post trở xuống:\")\n",
        "for account in grouped_accounts[False]:\n",
        "    print(f\"- {account._name}\")\n",
        "\n",
        "\n",
        ""
      ],
      "metadata": {
        "id": "U0ZK2zuZnVrY",
        "colab": {
          "base_uri": "https://localhost:8080/"
        },
        "outputId": "9dc55400-5879-41f3-c0be-343bab315d87"
      },
      "execution_count": 30,
      "outputs": [
        {
          "output_type": "stream",
          "name": "stdout",
          "text": [
            "Tài khoản có post nhiều like nhất trong dach sách bạn bè Account(name=nguyenb, email=nguyenb@gmail.com, country=VN)\n",
            "Tài khoản có từ 10 post trở lên:\n",
            "- nguyena\n",
            "\n",
            "Tài khoản có từ 10 post trở xuống:\n",
            "- nguyenb\n",
            "- nguyenc\n"
          ]
        }
      ]
    },
    {
      "cell_type": "code",
      "source": [
        "# Task 2.1\n",
        "import numpy as np\n",
        "arr = np.arange(10, 26)\n",
        "print(\"Mảng ban đầu : \",arr)\n",
        "\n",
        "reverse_arr = np.flip(arr)\n",
        "print(\"Mảng đảo ngược : \",reverse_arr)"
      ],
      "metadata": {
        "colab": {
          "base_uri": "https://localhost:8080/"
        },
        "id": "hdXk5einneAv",
        "outputId": "0c843054-9878-41b3-a025-4edcd7236b3a"
      },
      "execution_count": null,
      "outputs": [
        {
          "output_type": "stream",
          "name": "stdout",
          "text": [
            "Mảng ban đầu :  [10 11 12 13 14 15 16 17 18 19 20 21 22 23 24 25]\n",
            "Mảng đảo ngược :  [25 24 23 22 21 20 19 18 17 16 15 14 13 12 11 10]\n"
          ]
        }
      ]
    },
    {
      "cell_type": "code",
      "source": [
        "# Task 2.2\n",
        "import numpy as np\n",
        "\n",
        "# Input array\n",
        "arr = np.array([1, 2, 3, 4])\n",
        "# print(\"Original array:\", arr)\n",
        "\n",
        "# # Repeat 2 times\n",
        "# repeat_twice = np.tile(arr, 2)\n",
        "# print(\"Repeating 2 times:\", repeat_twice)\n",
        "\n",
        "# Repeat 3 times\n",
        "# repeat_thrice = np.tile(arr, 3)\n",
        "# print(\"Repeating 3 times:\", repeat_thrice)\n",
        "\n",
        "# print(\"Use method\")\n",
        "def repeatArr(arr, times):\n",
        "  repeat_arr = np.tile(arr, times)\n",
        "  print(repeat_arr)\n",
        "\n",
        "print(\"Original array:\", arr)\n",
        "# Repeat 2 times\n",
        "print(\"Repeating 2 times:\")\n",
        "repeatArr(arr,2)\n",
        "# Repeat 3 times\n",
        "print(\"Repeating 3 times:\")\n",
        "repeatArr(arr,3)\n"
      ],
      "metadata": {
        "colab": {
          "base_uri": "https://localhost:8080/"
        },
        "id": "XQju2PYMo9G1",
        "outputId": "4cd7d055-75a0-430a-c4ff-84f73f8c9446"
      },
      "execution_count": 4,
      "outputs": [
        {
          "output_type": "stream",
          "name": "stdout",
          "text": [
            "Original array: [1 2 3 4]\n",
            "Repeating 2 times:\n",
            "[1 2 3 4 1 2 3 4]\n",
            "Repeating 3 times:\n",
            "[1 2 3 4 1 2 3 4 1 2 3 4]\n"
          ]
        }
      ]
    },
    {
      "cell_type": "code",
      "source": [
        "# Task 2.3\n",
        "import numpy as np\n",
        "\n",
        "arr = np.array([[0.42, 0.48, 0.32],\n",
        "                [0.74, 0.58, 0.38],\n",
        "                [0.51, 0.34, 0.15]])\n",
        "print(\"Original array:\")\n",
        "print(arr)\n",
        "\n",
        "# replace\n",
        "# arr[arr < 0.5] = 0.5\n",
        "new_arr = np.where(arr < 0.5, 0.5, arr)\n",
        "\n",
        "# print(\"\\nReplace all elements of the original array which are less than 0.5\")\n",
        "# print(arr)\n",
        "print(\"\\nMang thay thế khi có giá trị nhỏ hơn 0.5\")\n",
        "print(new_arr)\n"
      ],
      "metadata": {
        "colab": {
          "base_uri": "https://localhost:8080/"
        },
        "id": "BFsvotmBsL3g",
        "outputId": "86ad3151-f9ca-4f59-9fe0-216adbe85c9f"
      },
      "execution_count": 8,
      "outputs": [
        {
          "output_type": "stream",
          "name": "stdout",
          "text": [
            "Original array:\n",
            "[[0.42 0.48 0.32]\n",
            " [0.74 0.58 0.38]\n",
            " [0.51 0.34 0.15]]\n",
            "\n",
            "Mang thay thế khi có giá trị nhỏ hơn 0.5\n",
            "[[0.5  0.5  0.5 ]\n",
            " [0.74 0.58 0.5 ]\n",
            " [0.51 0.5  0.5 ]]\n"
          ]
        }
      ]
    }
  ]
}