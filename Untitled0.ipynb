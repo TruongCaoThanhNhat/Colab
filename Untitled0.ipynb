{
  "nbformat": 4,
  "nbformat_minor": 0,
  "metadata": {
    "colab": {
      "provenance": [],
      "authorship_tag": "ABX9TyO9YKy8CBVDo7f0lc5M6PZ7",
      "include_colab_link": true
    },
    "kernelspec": {
      "name": "python3",
      "display_name": "Python 3"
    },
    "language_info": {
      "name": "python"
    }
  },
  "cells": [
    {
      "cell_type": "markdown",
      "metadata": {
        "id": "view-in-github",
        "colab_type": "text"
      },
      "source": [
        "<a href=\"https://colab.research.google.com/github/TruongCaoThanhNhat/Colab/blob/main/Untitled0.ipynb\" target=\"_parent\"><img src=\"https://colab.research.google.com/assets/colab-badge.svg\" alt=\"Open In Colab\"/></a>"
      ]
    },
    {
      "cell_type": "code",
      "execution_count": null,
      "metadata": {
        "colab": {
          "base_uri": "https://localhost:8080/"
        },
        "id": "-OQUoR13ichL",
        "outputId": "7e303c7d-5955-426c-e2b5-c03b43387af3"
      },
      "outputs": [
        {
          "name": "stdout",
          "output_type": "stream",
          "text": [
            "Nhập số nguyên thứ 1 : 3\n",
            "Nhập số nguyên thứ 2 : -2\n",
            "Nhập số nguyên thứ 3 : 3\n",
            "[3, -2, 3]\n",
            "Phần tử lớn nhất là: 3\n",
            "Phần tử nhỏ nhất là: -2\n",
            "Tổng các phần tử :  4\n",
            "L ban đầu [3, -2, 3]\n",
            "Danh sách L sau khi sắp xếp: [-2, 3, 3]\n",
            "Số lượng số dương:  2\n",
            "Số lượng số âm:  1\n",
            "Enter n = 2\n"
          ]
        }
      ],
      "source": [
        "# Task 1.1\n",
        "n = int(input(\"Enter n = \"))\n",
        "# print(\"n \", n)\n",
        "\n",
        "L=[]\n",
        "for i in range(n):\n",
        "  x = int(input(f\"Nhập số nguyên thứ {i+1} : \"))\n",
        "  L.append(x)\n",
        "  # print(type(x))\n",
        "print(L)\n",
        "\n",
        "value_max = max(L)\n",
        "value_min = min(L)\n",
        "print(\"Phần tử lớn nhất là:\",value_max)\n",
        "print(\"Phần tử nhỏ nhất là:\",value_min)\n",
        "\n",
        "numSum = sum(L)\n",
        "print(\"Tổng các phần tử : \",numSum)\n",
        "\n",
        "print(\"L ban đầu\",L)\n",
        "L.sort()\n",
        "print(\"Danh sách L sau khi sắp xếp:\", L)\n",
        "\n",
        "positive = 0\n",
        "negative = 0\n",
        "for i in L :\n",
        "  if i > 0:\n",
        "    positive+=1\n",
        "  else:\n",
        "    negative+=1\n",
        "print(\"Số lượng số dương: \",positive)\n",
        "print(\"Số lượng số âm: \", negative)"
      ]
    },
    {
      "cell_type": "code",
      "source": [
        "# Task 1.2\n",
        "def computeS(n):\n",
        "  if n <= 0:\n",
        "        return 0\n",
        "  sum = 0\n",
        "  value = 1\n",
        "  for i in range(1,n+1):\n",
        "    value = value * i\n",
        "    sum += value\n",
        "  return sum\n",
        "\n",
        "print(\"Kết quả là\",computeS(2))\n",
        "print(\"Kết quả là\",computeS(3))\n",
        "print(\"Kết quả là\",computeS(4))"
      ],
      "metadata": {
        "colab": {
          "base_uri": "https://localhost:8080/"
        },
        "id": "c1Bo1POQjTCa",
        "outputId": "ddd3ad51-3ef0-4d7f-9273-ff3e90e8f4b9"
      },
      "execution_count": null,
      "outputs": [
        {
          "output_type": "stream",
          "name": "stdout",
          "text": [
            "Kết quả là 3\n",
            "Kết quả là 9\n",
            "Kết quả là 33\n"
          ]
        }
      ]
    },
    {
      "cell_type": "code",
      "source": [
        "# Task 1.3"
      ],
      "metadata": {
        "id": "U0ZK2zuZnVrY"
      },
      "execution_count": null,
      "outputs": []
    },
    {
      "cell_type": "code",
      "source": [
        "# Task 2.1\n",
        "import numpy as np\n",
        "arr = np.arange(10, 26)\n",
        "print(\"Mảng ban đầu : \",arr)\n",
        "\n",
        "reverse_arr = np.flip(arr)\n",
        "print(\"Mảng đảo ngược : \",reverse_arr)"
      ],
      "metadata": {
        "colab": {
          "base_uri": "https://localhost:8080/"
        },
        "id": "hdXk5einneAv",
        "outputId": "0c843054-9878-41b3-a025-4edcd7236b3a"
      },
      "execution_count": null,
      "outputs": [
        {
          "output_type": "stream",
          "name": "stdout",
          "text": [
            "Mảng ban đầu :  [10 11 12 13 14 15 16 17 18 19 20 21 22 23 24 25]\n",
            "Mảng đảo ngược :  [25 24 23 22 21 20 19 18 17 16 15 14 13 12 11 10]\n"
          ]
        }
      ]
    },
    {
      "cell_type": "code",
      "source": [
        "# Task 2.2\n",
        "import numpy as np\n",
        "\n",
        "# Input array\n",
        "arr = np.array([1, 2, 3, 4])\n",
        "print(\"Original array:\", arr)\n",
        "\n",
        "# # Repeat 2 times\n",
        "repeat_twice = np.tile(arr, 2)\n",
        "print(\"Repeating 2 times:\", repeat_twice)\n",
        "\n",
        "# Repeat 3 times\n",
        "repeat_thrice = np.tile(arr, 3)\n",
        "print(\"Repeating 3 times:\", repeat_thrice)\n",
        "\n",
        "print(\"Use method\")\n",
        "def repeatArr(arr, times):\n",
        "  repeat_arr = np.tile(arr, times)\n",
        "  print(repeat_arr)\n",
        "\n",
        "print(\"Original array:\", arr)\n",
        "# Repeat 2 times\n",
        "print(\"Repeating 2 times:\")\n",
        "repeatArr(arr,2)\n",
        "# Repeat 3 times\n",
        "print(\"Repeating 3 times:\")\n",
        "repeatArr(arr,3)\n"
      ],
      "metadata": {
        "colab": {
          "base_uri": "https://localhost:8080/"
        },
        "id": "XQju2PYMo9G1",
        "outputId": "26bccb83-dcec-4497-8d98-354a44e9fc8c"
      },
      "execution_count": null,
      "outputs": [
        {
          "output_type": "stream",
          "name": "stdout",
          "text": [
            "Original array: [1 2 3 4]\n",
            "Repeating 2 times: [1 2 3 4 1 2 3 4]\n",
            "Repeating 3 times: [1 2 3 4 1 2 3 4 1 2 3 4]\n",
            "Use method\n",
            "Original array: [1 2 3 4]\n",
            "Repeating 2 times:\n",
            "[1 2 3 4 1 2 3 4]\n",
            "Repeating 3 times:\n",
            "[1 2 3 4 1 2 3 4 1 2 3 4]\n"
          ]
        }
      ]
    },
    {
      "cell_type": "code",
      "source": [
        "# Task 2.3\n",
        "import numpy as np\n",
        "\n",
        "arr = np.array([[0.42, 0.48, 0.32],\n",
        "                [0.74, 0.58, 0.38],\n",
        "                [0.51, 0.34, 0.15]])\n",
        "print(\"Original array:\")\n",
        "print(arr)\n",
        "\n",
        "# replace\n",
        "# arr[arr < 0.5] = 0.5\n",
        "new_arr = np.where(arr < 0.5, arr, arr)\n",
        "\n",
        "# print(\"\\nReplace all elements of the original array which are less than 0.5\")\n",
        "# print(arr)\n",
        "print(\"\\nReplace all elements of the original array which are less than 0.5\")\n",
        "print(new_arr)\n"
      ],
      "metadata": {
        "colab": {
          "base_uri": "https://localhost:8080/"
        },
        "id": "BFsvotmBsL3g",
        "outputId": "d179d896-6667-48eb-d3ae-1eac90003f0c"
      },
      "execution_count": null,
      "outputs": [
        {
          "output_type": "stream",
          "name": "stdout",
          "text": [
            "Original array:\n",
            "[[0.42 0.48 0.32]\n",
            " [0.74 0.58 0.38]\n",
            " [0.51 0.34 0.15]]\n",
            "\n",
            "Replace all elements of the original array which are less than 0.5\n",
            "[[0.5  0.5  0.5 ]\n",
            " [0.74 0.58 0.5 ]\n",
            " [0.51 0.5  0.5 ]]\n",
            "\n",
            "Replace all elements of the original array which are less than 0.5\n",
            "[[0.5  0.5  0.5 ]\n",
            " [0.74 0.58 0.5 ]\n",
            " [0.51 0.5  0.5 ]]\n"
          ]
        }
      ]
    }
  ]
}